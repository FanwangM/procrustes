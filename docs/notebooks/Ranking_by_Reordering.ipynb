{
 "cells": [
  {
   "cell_type": "markdown",
   "metadata": {},
   "source": [
    "# Ranking by Reordering"
   ]
  },
  {
   "cell_type": "markdown",
   "metadata": {},
   "source": [
    "The problem of ranking a set of objects is ubiquitous not only in everyday life, but also for many scientific problems such as information retrieval, recommender systems, natural language processing, and drug discovery. In this turotial, we will rank footable teams based on the game scores."
   ]
  },
  {
   "cell_type": "markdown",
   "metadata": {},
   "source": [
    "In American collegiate football, it is traditional for each team to play one game against every other team in their division. We can use two-sided permutation Procrustes to use the results to rank the teams.\n",
    "The data taken from *A. N. Langville, C. D. Meyer, Ranking by Reordering Methods, Princeton University Press, 2012, Ch. 8, pp. 97–112.* shows the pair-wise relationship for 5 football teams in the Coastal Division of the Atlantic Coast Conference. In Table 1, each team is given zero points for a game they lost (Duke lost to every other team in its division) and the point differential is used for games the team won. (E.g., Miami beats Duke by 45 points and UNC by 18 points.) "
   ]
  },
  {
   "cell_type": "markdown",
   "metadata": {},
   "source": [
    "\n",
    "|Table 1. Team by team game score differential|\n",
    "|---------------------------------------|\n",
    "\n",
    "| Team  | Duke | Miami | UNC | UVA | VT |\n",
    "|-------|------|-------|-----|-----|----|\n",
    "| Duke  | 0    | 0     | 0   | 0   | 0  |\n",
    "| Miami | 45   | 0     | 18  | 8   | 20 |\n",
    "| UNC   | 3    | 0     | 0   | 2   | 0  |\n",
    "| UVA   | 31   | 0     | 0   | 0   | 0  |\n",
    "| VT    | 45   | 0     | 27  | 38  | 0  |"
   ]
  },
  {
   "cell_type": "markdown",
   "metadata": {},
   "source": [
    "These results are also summarized in the score-differential matrix $\\mathbf{A}$ in **Fig. (ii)** based on the table given above,"
   ]
  },
  {
   "cell_type": "markdown",
   "metadata": {},
   "source": [
    "![Fig. 1 Ranking by reordering with two-sided permutation with one-transformation](notebook_data/ranking_reordering/ranking.png \"Fig. 1 Ranking by reordering with two-sided permutation with one-transformation\")"
   ]
  },
  {
   "cell_type": "markdown",
   "metadata": {},
   "source": [
    "Two-sided permutation Procrustes can be used to rank these teams, but one needs to define a proper target matrix. Traditionally, the rank-differential matrix has been used for this purpose and is defined for $n$ teams as, "
   ]
  },
  {
   "cell_type": "markdown",
   "metadata": {},
   "source": [
    "\\begin{equation}\n",
    "    \\label{rank_differential}\n",
    "    \\mathbf{R}_{n \\times n} =\n",
    "    \\begin{bmatrix}\n",
    "        0 & 1 & 2 & \\cdots & n-1 \\\\\n",
    "        & 0 & 1 & \\cdots & n-2 \\\\\n",
    "        &   &\\ddots &\\ddots & \\vdots \\\\\n",
    "        &   &   & \\ddots & 1 \\\\\n",
    "        &   &   &        & 0\n",
    "    \\end{bmatrix}\n",
    "\\end{equation}"
   ]
  },
  {
   "cell_type": "markdown",
   "metadata": {},
   "source": [
    "The rank-differential matrix $\\mathbf{R} \\in \\mathbb{R}^{n \\times n}$ is an upper-triangular matrix and its $ij$-th element specifies the difference in ranking between team $i$ and team $j$. This a sensible target for the score-differential matrix. Now, the two-sided permutation Procrustes method can be used to find the permutation matrix that maximizes the similarity between the score-differential matrix, $\\mathbf{A}$, and the rank-differential matrix based on the definition of rank-differential matrix, $\\mathbf{B}$ (**Fig. (ii)**)"
   ]
  },
  {
   "cell_type": "markdown",
   "metadata": {},
   "source": [
    "\\begin{equation}\n",
    "    \\min_{\\mathbf{P}} {\\left\\lVert \\mathbf{P}^{\\top} \\mathbf{A} \\mathbf{P} - \\mathbf{B}\n",
    "        \\right\\rVert}_{F}^2\n",
    "\\end{equation}"
   ]
  },
  {
   "cell_type": "markdown",
   "metadata": {},
   "source": [
    "This results to $[5,2,4,3,1]$ as the final rankings of the teams (**Fig. (iii)**)."
   ]
  },
  {
   "cell_type": "code",
   "execution_count": null,
   "metadata": {},
   "outputs": [],
   "source": [
    "# only run this cell if you need to install the dependices\n",
    "!pip install git+https://github.com/theochem/procrustes.git@master"
   ]
  },
  {
   "cell_type": "code",
   "execution_count": 1,
   "metadata": {},
   "outputs": [
    {
     "name": "stdout",
     "output_type": "stream",
     "text": [
      "Ranks =  [5 2 4 3 1]\n"
     ]
    }
   ],
   "source": [
    "import numpy as np\n",
    "\n",
    "from procrustes import permutation_2sided\n",
    "\n",
    "# input score-differential matrix\n",
    "A = np.array([[ 0, 0, 0 ,  0,  0 ],    # Duke\n",
    "              [45, 0, 18,  8,  20],    # Miami\n",
    "              [ 3, 0, 0 ,  2,  0 ],    # UNC\n",
    "              [31, 0, 0 ,  0,  0 ],    # UVA\n",
    "              [45, 0, 27, 38,  0 ]])   # VT\n",
    "\n",
    "# make rank-differential matrix\n",
    "n = A.shape[0]\n",
    "B = np.zeros((n, n))\n",
    "for index in range(n):\n",
    "    B[index, index:] = range(0, n - index)\n",
    "\n",
    "# rank teams using two-sided Procrustes\n",
    "result = permutation_2sided(A, B, single=True, \n",
    "                            mode='normal1', tol=10.e-6)\n",
    "\n",
    "# compute teams' ranks\n",
    "_, ranks = np.where(result.t == 1)\n",
    "ranks += 1\n",
    "print(\"Ranks = \", ranks)     # displays [5, 2, 4, 3, 1]"
   ]
  },
  {
   "cell_type": "markdown",
   "metadata": {},
   "source": [
    "Why we need to add all the rank values by 1? Because Python's list index starts with 0, but we often index starting from 1 for physical objects."
   ]
  }
 ],
 "metadata": {
  "kernelspec": {
   "display_name": "Python 3",
   "language": "python",
   "name": "python3"
  },
  "language_info": {
   "codemirror_mode": {
    "name": "ipython",
    "version": 3
   },
   "file_extension": ".py",
   "mimetype": "text/x-python",
   "name": "python",
   "nbconvert_exporter": "python",
   "pygments_lexer": "ipython3",
   "version": "3.8.3"
  }
 },
 "nbformat": 4,
 "nbformat_minor": 4
}
