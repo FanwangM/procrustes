{
 "cells": [
  {
   "cell_type": "markdown",
   "id": "analyzed-addition",
   "metadata": {},
   "source": [
    "The code block below gives an example of the orthogonal Procrustes problem for random matrices $\\mathbf{A}$ and $\\mathbf{B}$. Here, matrix $\\mathbf{B}$ is constructed by shifting an orthogonal transformation of matrix $\\mathbf{A}$, so the matrices can be perfectly matched. As is the case with all Procrustes flavours, the user can specify whether the matrices should be translated (so that both are centered at origin) and/or scaled (so that both are normalized to unity with respect to the Frobenius norm). In addition, the other optional arguments (not appearing in the code-block below) specify whether the zero columns (on the right-hand side) and rows (at the bottom) should be removed prior to transformation."
   ]
  },
  {
   "cell_type": "code",
   "execution_count": 1,
   "id": "equivalent-bridges",
   "metadata": {},
   "outputs": [
    {
     "name": "stdout",
     "output_type": "stream",
     "text": [
      "9.945692192702779e-31\n"
     ]
    }
   ],
   "source": [
    "import numpy as np\n",
    "from scipy.stats import ortho_group\n",
    "from procrustes import orthogonal\n",
    "\n",
    "# random input 10x7 matrix A\n",
    "a = np.random.rand(10, 7)\n",
    "\n",
    "# random orthogonal 7x7 matrix T\n",
    "t = ortho_group.rvs(7)\n",
    "\n",
    "# target matrix B (which is a shifted AxT)\n",
    "b = np.dot(a, t) + np.random.rand(1, 7)\n",
    "\n",
    "# orthogonal Procrustes analysis with translation\n",
    "result = orthogonal(a, b, scale=True, translate=True)\n",
    "\n",
    "# display Procrustes results\n",
    "# error (expected to be zero)\n",
    "print(result.error)    "
   ]
  },
  {
   "cell_type": "code",
   "execution_count": 2,
   "id": "acquired-banner",
   "metadata": {},
   "outputs": [
    {
     "name": "stdout",
     "output_type": "stream",
     "text": [
      "[[ 0.76704368  0.24234201 -0.2443444  -0.03500412  0.13473421 -0.4848402\n",
      "  -0.19687949]\n",
      " [ 0.00853565 -0.68551647 -0.08350729 -0.31427979 -0.29329304 -0.47950741\n",
      "   0.32909102]\n",
      " [ 0.10680518  0.11156386 -0.16906181 -0.5547083  -0.60941328  0.33956084\n",
      "  -0.39137815]\n",
      " [ 0.3117252  -0.28167213 -0.19484105  0.71257785 -0.45491058  0.26552062\n",
      "   0.01769573]\n",
      " [-0.27528981  0.51527592 -0.55432293  0.05562049 -0.26779419 -0.1780102\n",
      "   0.49491144]\n",
      " [ 0.04849826  0.33465191  0.72922801  0.115903   -0.48165441 -0.31040565\n",
      "   0.11002901]\n",
      " [ 0.47418838  0.04528433  0.1665233  -0.26078206  0.11744363  0.47027711\n",
      "   0.66513446]]\n"
     ]
    }
   ],
   "source": [
    "# transformation matrix (same as T)\n",
    "print(result.t)"
   ]
  },
  {
   "cell_type": "code",
   "execution_count": 3,
   "id": "communist-clearing",
   "metadata": {},
   "outputs": [
    {
     "name": "stdout",
     "output_type": "stream",
     "text": [
      "[[ 0.10524259 -0.20171952 -0.00197784  0.09527217 -0.00576083  0.03226466\n",
      "   0.16905405]\n",
      " [ 0.09910817 -0.16527621 -0.05833857 -0.07205314 -0.21556919  0.05246684\n",
      "  -0.10984354]\n",
      " [-0.18236865  0.11982583 -0.13907749 -0.04269053  0.19000499  0.01580882\n",
      "   0.03687883]\n",
      " [ 0.00058638  0.13064853  0.14907956 -0.07415179 -0.01526494 -0.14933601\n",
      "  -0.00886503]\n",
      " [ 0.05250876 -0.10823365  0.02606576 -0.04653071  0.16780312  0.06690096\n",
      "   0.09107437]\n",
      " [ 0.08533708  0.27191838  0.00873697  0.01521687 -0.19000507  0.16683213\n",
      "  -0.05890518]\n",
      " [ 0.0517116  -0.18424346 -0.16585383  0.13987241 -0.10713652 -0.14291237\n",
      "  -0.19611888]\n",
      " [-0.2919628   0.0243955   0.13466663  0.00734221 -0.11547638 -0.02873159\n",
      "  -0.04597026]\n",
      " [ 0.02859943  0.12270226  0.07612172  0.02668408  0.01175157 -0.11417017\n",
      "  -0.00790431]\n",
      " [ 0.05123746 -0.01001766 -0.02942292 -0.04896157  0.27965325  0.10087674\n",
      "   0.13059995]]\n",
      "[[-2.07137557e-02  1.51256053e-01 -1.15475565e-01  1.72078865e-01\n",
      "  -4.70519149e-02 -4.14412589e-02  1.42535886e-01]\n",
      " [ 1.98871453e-02  1.43580246e-01  2.34154484e-01  1.47523468e-01\n",
      "  -9.00898217e-02 -2.59388496e-02 -2.51170441e-02]\n",
      " [-6.46939996e-02 -1.09839561e-01 -8.37732808e-02 -1.75507942e-01\n",
      "   1.51222359e-01 -1.67477927e-01 -3.87987995e-02]\n",
      " [ 7.03730015e-02 -5.53411237e-03 -7.36919217e-03 -1.51367480e-01\n",
      "   6.67982778e-03  1.96600550e-01 -2.75614536e-02]\n",
      " [-1.84514314e-02  3.57678921e-02 -1.00251529e-01 -4.83409296e-02\n",
      "  -9.90342363e-02 -1.11627907e-01  1.48218784e-01]\n",
      " [ 3.37971434e-02 -2.34843322e-01  2.25028170e-01  8.88410896e-02\n",
      "   1.04655415e-01  1.36521494e-01  6.72286929e-02]\n",
      " [ 1.24110962e-01  1.32043225e-01  2.89389316e-02  2.07322064e-01\n",
      "  -5.23866196e-02 -8.94983015e-02 -2.58153388e-01]\n",
      " [-2.43776002e-01 -2.51734932e-04  2.33072210e-02 -7.48012728e-02\n",
      "   3.19915887e-02  1.52538071e-01 -1.74480396e-01]\n",
      " [ 9.06327779e-02 -4.99157378e-02 -5.37631584e-02 -5.72641209e-02\n",
      "   2.79050730e-02  1.29961593e-01 -3.27335857e-02]\n",
      " [ 8.83415843e-03 -6.22629470e-02 -1.50796081e-01 -1.08483741e-01\n",
      "  -3.38916709e-02 -1.79637463e-01  1.98861304e-01]]\n"
     ]
    }
   ],
   "source": [
    "print(result.new_b)\n",
    "print(result.new_a)"
   ]
  }
 ],
 "metadata": {
  "kernelspec": {
   "display_name": "Python 3",
   "language": "python",
   "name": "python3"
  },
  "language_info": {
   "codemirror_mode": {
    "name": "ipython",
    "version": 3
   },
   "file_extension": ".py",
   "mimetype": "text/x-python",
   "name": "python",
   "nbconvert_exporter": "python",
   "pygments_lexer": "ipython3",
   "version": "3.8.3"
  }
 },
 "nbformat": 4,
 "nbformat_minor": 5
}
